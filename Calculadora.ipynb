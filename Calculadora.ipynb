{
 "cells": [
  {
   "cell_type": "code",
   "id": "initial_id",
   "metadata": {
    "collapsed": true,
    "ExecuteTime": {
     "end_time": "2024-07-09T23:33:02.110728Z",
     "start_time": "2024-07-09T23:33:02.097855Z"
    }
   },
   "source": [
    "import os\n",
    "\n",
    "print(50 * '=')\n",
    "operacao = {\n",
    "    '+': 'Soma',\n",
    "    '-': 'Subtração',\n",
    "    '*': 'Multiplicação',\n",
    "    '/': 'Divisão',\n",
    "    '^': 'Exponenciação'\n",
    "}\n",
    "\n"
   ],
   "outputs": [
    {
     "name": "stdout",
     "output_type": "stream",
     "text": [
      "==================================================\n"
     ]
    }
   ],
   "execution_count": 1
  },
  {
   "metadata": {},
   "cell_type": "code",
   "outputs": [],
   "execution_count": null,
   "source": "",
   "id": "7ec148bf0e42a5dd"
  }
 ],
 "metadata": {
  "kernelspec": {
   "display_name": "Python 3",
   "language": "python",
   "name": "python3"
  },
  "language_info": {
   "codemirror_mode": {
    "name": "ipython",
    "version": 2
   },
   "file_extension": ".py",
   "mimetype": "text/x-python",
   "name": "python",
   "nbconvert_exporter": "python",
   "pygments_lexer": "ipython2",
   "version": "2.7.6"
  }
 },
 "nbformat": 4,
 "nbformat_minor": 5
}
